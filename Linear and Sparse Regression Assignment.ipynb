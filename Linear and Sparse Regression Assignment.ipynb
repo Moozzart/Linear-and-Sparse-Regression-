{
 "cells": [
  {
   "cell_type": "code",
   "execution_count": 641,
   "metadata": {},
   "outputs": [],
   "source": [
    "#Importing Important Libraries\n",
    "import pandas as pd\n",
    "import numpy as np\n",
    "import matplotlib.pyplot as plt"
   ]
  },
  {
   "cell_type": "code",
   "execution_count": 642,
   "metadata": {},
   "outputs": [],
   "source": [
    "df=pd.read_csv('Advertising Dataset.csv')"
   ]
  },
  {
   "cell_type": "code",
   "execution_count": 643,
   "metadata": {},
   "outputs": [
    {
     "data": {
      "text/html": [
       "<div>\n",
       "<style scoped>\n",
       "    .dataframe tbody tr th:only-of-type {\n",
       "        vertical-align: middle;\n",
       "    }\n",
       "\n",
       "    .dataframe tbody tr th {\n",
       "        vertical-align: top;\n",
       "    }\n",
       "\n",
       "    .dataframe thead th {\n",
       "        text-align: right;\n",
       "    }\n",
       "</style>\n",
       "<table border=\"1\" class=\"dataframe\">\n",
       "  <thead>\n",
       "    <tr style=\"text-align: right;\">\n",
       "      <th></th>\n",
       "      <th>Unnamed: 0</th>\n",
       "      <th>TV</th>\n",
       "      <th>radio</th>\n",
       "      <th>newspaper</th>\n",
       "      <th>sales</th>\n",
       "    </tr>\n",
       "  </thead>\n",
       "  <tbody>\n",
       "    <tr>\n",
       "      <th>0</th>\n",
       "      <td>1</td>\n",
       "      <td>230.1</td>\n",
       "      <td>37.8</td>\n",
       "      <td>69.2</td>\n",
       "      <td>22.1</td>\n",
       "    </tr>\n",
       "    <tr>\n",
       "      <th>1</th>\n",
       "      <td>2</td>\n",
       "      <td>44.5</td>\n",
       "      <td>39.3</td>\n",
       "      <td>45.1</td>\n",
       "      <td>10.4</td>\n",
       "    </tr>\n",
       "    <tr>\n",
       "      <th>2</th>\n",
       "      <td>3</td>\n",
       "      <td>17.2</td>\n",
       "      <td>45.9</td>\n",
       "      <td>69.3</td>\n",
       "      <td>9.3</td>\n",
       "    </tr>\n",
       "    <tr>\n",
       "      <th>3</th>\n",
       "      <td>4</td>\n",
       "      <td>151.5</td>\n",
       "      <td>41.3</td>\n",
       "      <td>58.5</td>\n",
       "      <td>18.5</td>\n",
       "    </tr>\n",
       "    <tr>\n",
       "      <th>4</th>\n",
       "      <td>5</td>\n",
       "      <td>180.8</td>\n",
       "      <td>10.8</td>\n",
       "      <td>58.4</td>\n",
       "      <td>12.9</td>\n",
       "    </tr>\n",
       "  </tbody>\n",
       "</table>\n",
       "</div>"
      ],
      "text/plain": [
       "   Unnamed: 0     TV  radio  newspaper  sales\n",
       "0           1  230.1   37.8       69.2   22.1\n",
       "1           2   44.5   39.3       45.1   10.4\n",
       "2           3   17.2   45.9       69.3    9.3\n",
       "3           4  151.5   41.3       58.5   18.5\n",
       "4           5  180.8   10.8       58.4   12.9"
      ]
     },
     "execution_count": 643,
     "metadata": {},
     "output_type": "execute_result"
    }
   ],
   "source": [
    "#The dataset had a unuseful column named 'Unnamed: 0'\n",
    "df.head() "
   ]
  },
  {
   "cell_type": "code",
   "execution_count": 644,
   "metadata": {},
   "outputs": [],
   "source": [
    "#Dropping the column 'Unnamed: 0'\n",
    "df.drop('Unnamed: 0',axis=1,inplace=True)"
   ]
  },
  {
   "cell_type": "code",
   "execution_count": 645,
   "metadata": {
    "scrolled": true
   },
   "outputs": [
    {
     "name": "stdout",
     "output_type": "stream",
     "text": [
      "<class 'pandas.core.frame.DataFrame'>\n",
      "RangeIndex: 200 entries, 0 to 199\n",
      "Data columns (total 4 columns):\n",
      " #   Column     Non-Null Count  Dtype  \n",
      "---  ------     --------------  -----  \n",
      " 0   TV         200 non-null    float64\n",
      " 1   radio      200 non-null    float64\n",
      " 2   newspaper  200 non-null    float64\n",
      " 3   sales      200 non-null    float64\n",
      "dtypes: float64(4)\n",
      "memory usage: 6.4 KB\n"
     ]
    }
   ],
   "source": [
    "#The Info gives us idea that there are no Null values in any of the columns and total number of data points are 200\n",
    "df.info()"
   ]
  },
  {
   "cell_type": "code",
   "execution_count": 646,
   "metadata": {},
   "outputs": [],
   "source": [
    "#Function to normalise the input features, not the output using the formulae: x = (x - x_min)/(x_max - x_min)\n",
    "def normalise(df):\n",
    "    for col in df.columns[:-1]:\n",
    "        max=df[col].max()\n",
    "        min=df[col].min()\n",
    "        df[col]=(df[col]-min)/(max-min)\n",
    "    return df"
   ]
  },
  {
   "cell_type": "code",
   "execution_count": 647,
   "metadata": {},
   "outputs": [],
   "source": [
    "df=normalise(df) #Normalising the inputs of our dataset"
   ]
  },
  {
   "cell_type": "code",
   "execution_count": 648,
   "metadata": {},
   "outputs": [
    {
     "data": {
      "text/html": [
       "<div>\n",
       "<style scoped>\n",
       "    .dataframe tbody tr th:only-of-type {\n",
       "        vertical-align: middle;\n",
       "    }\n",
       "\n",
       "    .dataframe tbody tr th {\n",
       "        vertical-align: top;\n",
       "    }\n",
       "\n",
       "    .dataframe thead th {\n",
       "        text-align: right;\n",
       "    }\n",
       "</style>\n",
       "<table border=\"1\" class=\"dataframe\">\n",
       "  <thead>\n",
       "    <tr style=\"text-align: right;\">\n",
       "      <th></th>\n",
       "      <th>TV</th>\n",
       "      <th>radio</th>\n",
       "      <th>newspaper</th>\n",
       "      <th>sales</th>\n",
       "    </tr>\n",
       "  </thead>\n",
       "  <tbody>\n",
       "    <tr>\n",
       "      <th>0</th>\n",
       "      <td>0.775786</td>\n",
       "      <td>0.762097</td>\n",
       "      <td>0.605981</td>\n",
       "      <td>22.1</td>\n",
       "    </tr>\n",
       "    <tr>\n",
       "      <th>1</th>\n",
       "      <td>0.148123</td>\n",
       "      <td>0.792339</td>\n",
       "      <td>0.394019</td>\n",
       "      <td>10.4</td>\n",
       "    </tr>\n",
       "    <tr>\n",
       "      <th>2</th>\n",
       "      <td>0.055800</td>\n",
       "      <td>0.925403</td>\n",
       "      <td>0.606860</td>\n",
       "      <td>9.3</td>\n",
       "    </tr>\n",
       "    <tr>\n",
       "      <th>3</th>\n",
       "      <td>0.509976</td>\n",
       "      <td>0.832661</td>\n",
       "      <td>0.511873</td>\n",
       "      <td>18.5</td>\n",
       "    </tr>\n",
       "    <tr>\n",
       "      <th>4</th>\n",
       "      <td>0.609063</td>\n",
       "      <td>0.217742</td>\n",
       "      <td>0.510994</td>\n",
       "      <td>12.9</td>\n",
       "    </tr>\n",
       "  </tbody>\n",
       "</table>\n",
       "</div>"
      ],
      "text/plain": [
       "         TV     radio  newspaper  sales\n",
       "0  0.775786  0.762097   0.605981   22.1\n",
       "1  0.148123  0.792339   0.394019   10.4\n",
       "2  0.055800  0.925403   0.606860    9.3\n",
       "3  0.509976  0.832661   0.511873   18.5\n",
       "4  0.609063  0.217742   0.510994   12.9"
      ]
     },
     "execution_count": 648,
     "metadata": {},
     "output_type": "execute_result"
    }
   ],
   "source": [
    "df.head()"
   ]
  },
  {
   "cell_type": "code",
   "execution_count": 649,
   "metadata": {},
   "outputs": [],
   "source": [
    "#Function to split the dataset into 75% training and 25% testing datasets, returns train_set and test_set\n",
    "def dataset_split(df):\n",
    "    # Shuffling the dataset \n",
    "    shuffle_df = df.sample(200)\n",
    "\n",
    "    # Define a size for your train set \n",
    "    train_size = int(0.75 * len(df))\n",
    "\n",
    "    # Splitting the dataset \n",
    "    train_set = shuffle_df[:train_size]\n",
    "    test_set = shuffle_df[train_size:]\n",
    "    return train_set, test_set"
   ]
  },
  {
   "cell_type": "code",
   "execution_count": 650,
   "metadata": {},
   "outputs": [],
   "source": [
    "#Using the above function to split our data\n",
    "train_set,test_set=dataset_split(df)"
   ]
  },
  {
   "cell_type": "code",
   "execution_count": 651,
   "metadata": {},
   "outputs": [],
   "source": [
    "training_inputs=train_set[['TV','radio','newspaper']] #Taking input features in training_inputs"
   ]
  },
  {
   "cell_type": "code",
   "execution_count": 652,
   "metadata": {},
   "outputs": [
    {
     "data": {
      "text/html": [
       "<div>\n",
       "<style scoped>\n",
       "    .dataframe tbody tr th:only-of-type {\n",
       "        vertical-align: middle;\n",
       "    }\n",
       "\n",
       "    .dataframe tbody tr th {\n",
       "        vertical-align: top;\n",
       "    }\n",
       "\n",
       "    .dataframe thead th {\n",
       "        text-align: right;\n",
       "    }\n",
       "</style>\n",
       "<table border=\"1\" class=\"dataframe\">\n",
       "  <thead>\n",
       "    <tr style=\"text-align: right;\">\n",
       "      <th></th>\n",
       "      <th>TV</th>\n",
       "      <th>radio</th>\n",
       "      <th>newspaper</th>\n",
       "    </tr>\n",
       "  </thead>\n",
       "  <tbody>\n",
       "    <tr>\n",
       "      <th>37</th>\n",
       "      <td>0.250254</td>\n",
       "      <td>0.995968</td>\n",
       "      <td>0.399296</td>\n",
       "    </tr>\n",
       "    <tr>\n",
       "      <th>122</th>\n",
       "      <td>0.755157</td>\n",
       "      <td>0.048387</td>\n",
       "      <td>0.134565</td>\n",
       "    </tr>\n",
       "    <tr>\n",
       "      <th>190</th>\n",
       "      <td>0.131214</td>\n",
       "      <td>0.828629</td>\n",
       "      <td>0.048373</td>\n",
       "    </tr>\n",
       "    <tr>\n",
       "      <th>173</th>\n",
       "      <td>0.567129</td>\n",
       "      <td>0.143145</td>\n",
       "      <td>0.109938</td>\n",
       "    </tr>\n",
       "    <tr>\n",
       "      <th>115</th>\n",
       "      <td>0.251606</td>\n",
       "      <td>0.705645</td>\n",
       "      <td>0.460862</td>\n",
       "    </tr>\n",
       "  </tbody>\n",
       "</table>\n",
       "</div>"
      ],
      "text/plain": [
       "           TV     radio  newspaper\n",
       "37   0.250254  0.995968   0.399296\n",
       "122  0.755157  0.048387   0.134565\n",
       "190  0.131214  0.828629   0.048373\n",
       "173  0.567129  0.143145   0.109938\n",
       "115  0.251606  0.705645   0.460862"
      ]
     },
     "execution_count": 652,
     "metadata": {},
     "output_type": "execute_result"
    }
   ],
   "source": [
    "training_inputs.head()"
   ]
  },
  {
   "cell_type": "code",
   "execution_count": 653,
   "metadata": {},
   "outputs": [],
   "source": [
    "#Getting the training outputs\n",
    "training_outputs=train_set['sales']\n",
    "#np.array(training_outputs)"
   ]
  },
  {
   "cell_type": "code",
   "execution_count": 654,
   "metadata": {},
   "outputs": [
    {
     "data": {
      "text/plain": [
       "TV           0.494388\n",
       "radio        0.482513\n",
       "newspaper    0.269792\n",
       "dtype: float64"
      ]
     },
     "execution_count": 654,
     "metadata": {},
     "output_type": "execute_result"
    }
   ],
   "source": [
    "x_bar = training_inputs.mean()\n",
    "x_bar #3X1 x_bar matrix"
   ]
  },
  {
   "cell_type": "code",
   "execution_count": 655,
   "metadata": {},
   "outputs": [
    {
     "data": {
      "text/plain": [
       "Index(['TV', 'radio', 'newspaper'], dtype='object')"
      ]
     },
     "execution_count": 655,
     "metadata": {},
     "output_type": "execute_result"
    }
   ],
   "source": [
    "training_inputs.columns"
   ]
  },
  {
   "cell_type": "code",
   "execution_count": 656,
   "metadata": {},
   "outputs": [],
   "source": [
    "#Getting x_tilda by subtracting the mean from the respective feature column values\n",
    "x_tilda = training_inputs.copy()\n",
    "for col in training_inputs.columns:\n",
    "    mean=x_tilda[col].mean()\n",
    "    x_tilda[col]=x_tilda[col]-mean\n"
   ]
  },
  {
   "cell_type": "code",
   "execution_count": 657,
   "metadata": {},
   "outputs": [],
   "source": [
    "y_bar=training_outputs.mean() #mean of training outputs"
   ]
  },
  {
   "cell_type": "code",
   "execution_count": 658,
   "metadata": {},
   "outputs": [],
   "source": [
    "y_tilda=training_outputs-y_bar #getting 150X1 matrix y_tilda"
   ]
  },
  {
   "cell_type": "code",
   "execution_count": 659,
   "metadata": {},
   "outputs": [],
   "source": [
    "#function to get the weights or coefficients of the input features\n",
    "def Lin_reg_weight(x_tilda,y_tilda):\n",
    "    W = np.matmul(np.linalg.inv((np.dot(x_tilda.T,x_tilda))),np.dot(x_tilda.T,y_tilda).reshape((3,1)))\n",
    "    return W"
   ]
  },
  {
   "cell_type": "code",
   "execution_count": 660,
   "metadata": {},
   "outputs": [
    {
     "data": {
      "text/plain": [
       "array([[14.0800144 ],\n",
       "       [ 9.29357198],\n",
       "       [-0.2294903 ]])"
      ]
     },
     "execution_count": 660,
     "metadata": {},
     "output_type": "execute_result"
    }
   ],
   "source": [
    "#Using the above function to get W\n",
    "W = Lin_reg_weight(x_tilda,y_tilda)\n",
    "W"
   ]
  },
  {
   "cell_type": "code",
   "execution_count": 661,
   "metadata": {},
   "outputs": [],
   "source": [
    "TV_w=W[0][0] #weight for feature TV\n",
    "radio_w=W[1][0] #weight for feature radio\n",
    "newspaper_w=W[2][0] #weight for feature newspaper"
   ]
  },
  {
   "cell_type": "code",
   "execution_count": 662,
   "metadata": {},
   "outputs": [
    {
     "data": {
      "text/plain": [
       "2.7626446290281166"
      ]
     },
     "execution_count": 662,
     "metadata": {},
     "output_type": "execute_result"
    }
   ],
   "source": [
    "bias=y_bar-np.dot(W.T,x_bar) # calculating the bias\n",
    "bias[0]"
   ]
  },
  {
   "cell_type": "code",
   "execution_count": 663,
   "metadata": {},
   "outputs": [
    {
     "data": {
      "text/plain": [
       "array([[14.0800144 ],\n",
       "       [ 9.29357198],\n",
       "       [-0.2294903 ]])"
      ]
     },
     "execution_count": 663,
     "metadata": {},
     "output_type": "execute_result"
    }
   ],
   "source": [
    "W #3X1 weight matrix"
   ]
  },
  {
   "cell_type": "code",
   "execution_count": 664,
   "metadata": {},
   "outputs": [],
   "source": [
    "input_test,output_test = test_set[['TV','radio','newspaper']],test_set['sales'] #extracting input test set and output test set"
   ]
  },
  {
   "cell_type": "code",
   "execution_count": 665,
   "metadata": {},
   "outputs": [
    {
     "data": {
      "text/html": [
       "<div>\n",
       "<style scoped>\n",
       "    .dataframe tbody tr th:only-of-type {\n",
       "        vertical-align: middle;\n",
       "    }\n",
       "\n",
       "    .dataframe tbody tr th {\n",
       "        vertical-align: top;\n",
       "    }\n",
       "\n",
       "    .dataframe thead th {\n",
       "        text-align: right;\n",
       "    }\n",
       "</style>\n",
       "<table border=\"1\" class=\"dataframe\">\n",
       "  <thead>\n",
       "    <tr style=\"text-align: right;\">\n",
       "      <th></th>\n",
       "      <th>33</th>\n",
       "      <th>199</th>\n",
       "      <th>15</th>\n",
       "      <th>99</th>\n",
       "      <th>88</th>\n",
       "      <th>126</th>\n",
       "      <th>9</th>\n",
       "      <th>103</th>\n",
       "      <th>114</th>\n",
       "      <th>51</th>\n",
       "      <th>...</th>\n",
       "      <th>75</th>\n",
       "      <th>164</th>\n",
       "      <th>58</th>\n",
       "      <th>94</th>\n",
       "      <th>38</th>\n",
       "      <th>40</th>\n",
       "      <th>196</th>\n",
       "      <th>186</th>\n",
       "      <th>149</th>\n",
       "      <th>138</th>\n",
       "    </tr>\n",
       "  </thead>\n",
       "  <tbody>\n",
       "    <tr>\n",
       "      <th>TV</th>\n",
       "      <td>0.895840</td>\n",
       "      <td>0.782550</td>\n",
       "      <td>0.658438</td>\n",
       "      <td>0.454853</td>\n",
       "      <td>0.296246</td>\n",
       "      <td>0.024011</td>\n",
       "      <td>0.673318</td>\n",
       "      <td>0.633074</td>\n",
       "      <td>0.262090</td>\n",
       "      <td>0.337166</td>\n",
       "      <td>...</td>\n",
       "      <td>0.054785</td>\n",
       "      <td>0.393980</td>\n",
       "      <td>0.710517</td>\n",
       "      <td>0.360839</td>\n",
       "      <td>0.143389</td>\n",
       "      <td>0.682448</td>\n",
       "      <td>0.316199</td>\n",
       "      <td>0.469395</td>\n",
       "      <td>0.148799</td>\n",
       "      <td>0.143050</td>\n",
       "    </tr>\n",
       "    <tr>\n",
       "      <th>radio</th>\n",
       "      <td>0.403226</td>\n",
       "      <td>0.173387</td>\n",
       "      <td>0.961694</td>\n",
       "      <td>0.840726</td>\n",
       "      <td>0.514113</td>\n",
       "      <td>0.784274</td>\n",
       "      <td>0.052419</td>\n",
       "      <td>0.346774</td>\n",
       "      <td>0.943548</td>\n",
       "      <td>0.193548</td>\n",
       "      <td>...</td>\n",
       "      <td>0.881048</td>\n",
       "      <td>0.296371</td>\n",
       "      <td>1.000000</td>\n",
       "      <td>0.282258</td>\n",
       "      <td>0.538306</td>\n",
       "      <td>0.449597</td>\n",
       "      <td>0.098790</td>\n",
       "      <td>0.042339</td>\n",
       "      <td>0.520161</td>\n",
       "      <td>0.522177</td>\n",
       "    </tr>\n",
       "    <tr>\n",
       "      <th>newspaper</th>\n",
       "      <td>0.000000</td>\n",
       "      <td>0.073879</td>\n",
       "      <td>0.462621</td>\n",
       "      <td>0.401055</td>\n",
       "      <td>0.642920</td>\n",
       "      <td>0.442392</td>\n",
       "      <td>0.183817</td>\n",
       "      <td>0.154793</td>\n",
       "      <td>0.300792</td>\n",
       "      <td>0.029024</td>\n",
       "      <td>...</td>\n",
       "      <td>0.783641</td>\n",
       "      <td>0.044855</td>\n",
       "      <td>0.328936</td>\n",
       "      <td>0.093228</td>\n",
       "      <td>0.306069</td>\n",
       "      <td>0.275286</td>\n",
       "      <td>0.068602</td>\n",
       "      <td>0.231310</td>\n",
       "      <td>0.178540</td>\n",
       "      <td>0.177661</td>\n",
       "    </tr>\n",
       "  </tbody>\n",
       "</table>\n",
       "<p>3 rows × 50 columns</p>\n",
       "</div>"
      ],
      "text/plain": [
       "                33        199       15        99        88        126  \\\n",
       "TV         0.895840  0.782550  0.658438  0.454853  0.296246  0.024011   \n",
       "radio      0.403226  0.173387  0.961694  0.840726  0.514113  0.784274   \n",
       "newspaper  0.000000  0.073879  0.462621  0.401055  0.642920  0.442392   \n",
       "\n",
       "                9         103       114       51   ...       75        164  \\\n",
       "TV         0.673318  0.633074  0.262090  0.337166  ...  0.054785  0.393980   \n",
       "radio      0.052419  0.346774  0.943548  0.193548  ...  0.881048  0.296371   \n",
       "newspaper  0.183817  0.154793  0.300792  0.029024  ...  0.783641  0.044855   \n",
       "\n",
       "                58        94        38        40        196       186  \\\n",
       "TV         0.710517  0.360839  0.143389  0.682448  0.316199  0.469395   \n",
       "radio      1.000000  0.282258  0.538306  0.449597  0.098790  0.042339   \n",
       "newspaper  0.328936  0.093228  0.306069  0.275286  0.068602  0.231310   \n",
       "\n",
       "                149       138  \n",
       "TV         0.148799  0.143050  \n",
       "radio      0.520161  0.522177  \n",
       "newspaper  0.178540  0.177661  \n",
       "\n",
       "[3 rows x 50 columns]"
      ]
     },
     "execution_count": 665,
     "metadata": {},
     "output_type": "execute_result"
    }
   ],
   "source": [
    "X=input_test.T #To be used in calculating the predictions(preds), 3XN matrix\n",
    "X"
   ]
  },
  {
   "cell_type": "code",
   "execution_count": 666,
   "metadata": {},
   "outputs": [],
   "source": [
    "preds=np.dot(W.T,X)+bias #predictions"
   ]
  },
  {
   "cell_type": "code",
   "execution_count": 667,
   "metadata": {},
   "outputs": [],
   "source": [
    "#Function to calculate mean squared error\n",
    "def MSE(outputs,preds):\n",
    "    MSE=np.sum(np.square(outputs-preds))/len(outputs)\n",
    "    return MSE"
   ]
  },
  {
   "cell_type": "code",
   "execution_count": 668,
   "metadata": {},
   "outputs": [],
   "source": [
    "outputs=np.array(output_test).T #changing the output_test shaped array to its transpose for easier manipulation and for \n",
    "                                #dimensional violations"
   ]
  },
  {
   "cell_type": "code",
   "execution_count": 669,
   "metadata": {},
   "outputs": [
    {
     "name": "stdout",
     "output_type": "stream",
     "text": [
      "Mean Squared Error of Simple Regression is  2.5003105063294853\n"
     ]
    }
   ],
   "source": [
    "print('Mean Squared Error of Simple Regression is ',MSE(outputs,preds)) #MSE obtained through my code "
   ]
  },
  {
   "cell_type": "code",
   "execution_count": 670,
   "metadata": {},
   "outputs": [
    {
     "name": "stdout",
     "output_type": "stream",
     "text": [
      "Mean Squared Error of Simple Regression Using library is  2.5003105063294853\n"
     ]
    }
   ],
   "source": [
    "from sklearn.linear_model import LinearRegression\n",
    "model = LinearRegression().fit(training_inputs, np.array(training_outputs).T)\n",
    "preds2=model.predict(input_test)\n",
    "print('Mean Squared Error of Simple Regression Using library is ',MSE(outputs,preds)) #MSE obatined using the library"
   ]
  },
  {
   "cell_type": "markdown",
   "metadata": {},
   "source": [
    "## As you can see the above two MSE's, they are exactly the same which proves that the coded algorithm works correctly"
   ]
  },
  {
   "cell_type": "code",
   "execution_count": 671,
   "metadata": {},
   "outputs": [
    {
     "name": "stdout",
     "output_type": "stream",
     "text": [
      "The bias and the coefficients are respectively  [2.76264463]  and  [[14.0800144   9.29357198 -0.2294903 ]]  without using libraries\n",
      "The bias and the coefficients are respectively  [2.7626446290281255]  and  [14.0800144   9.29357198 -0.2294903 ]  with using libraries\n"
     ]
    }
   ],
   "source": [
    "b=model.intercept_\n",
    "coeff=model.coef_\n",
    "print('The bias and the coefficients are respectively ',bias ,' and ', W.T,' without using libraries')\n",
    "print('The bias and the coefficients are respectively ',[b] ,' and ', coeff,' with using libraries')"
   ]
  },
  {
   "cell_type": "markdown",
   "metadata": {},
   "source": [
    "## The above values of b and coeff further proves that the algorithm has worked correctly"
   ]
  },
  {
   "cell_type": "code",
   "execution_count": 672,
   "metadata": {},
   "outputs": [],
   "source": [
    "Lambdas = [0.5, 1, 5, 10, 50, 100] #List of Tradeoff parameters"
   ]
  },
  {
   "cell_type": "markdown",
   "metadata": {},
   "source": [
    "# Ridge Regression for different values of lambda"
   ]
  },
  {
   "cell_type": "markdown",
   "metadata": {},
   "source": [
    "## To calculate the weights(WR), biasR, predsR and MSE for all the lambda "
   ]
  },
  {
   "cell_type": "code",
   "execution_count": 673,
   "metadata": {},
   "outputs": [
    {
     "name": "stdout",
     "output_type": "stream",
     "text": [
      "For Lambda = 0.5 , MSE is 2.3461118493966757\n",
      "For Lambda = 1 , MSE is 2.2553797452216595\n",
      "For Lambda = 5 , MSE is 2.7041013544900783\n",
      "For Lambda = 10 , MSE is 4.1790929828805465\n",
      "For Lambda = 50 , MSE is 11.67037905434314\n",
      "For Lambda = 100 , MSE is 14.63111645169292\n"
     ]
    }
   ],
   "source": [
    "weights={} #dictionary to keep the weights(value) for each of the lambdas(key) \n",
    "mse={} #dictionary to keep the MSE(value) for each of the lambdas(key) \n",
    "I = np.identity(X.shape[0]) #Identity matrix, 3X3\n",
    "for Lambda in Lambdas:\n",
    "    WR = np.matmul(np.linalg.inv((np.dot(x_tilda.T,x_tilda))+Lambda*I),np.dot(x_tilda.T,y_tilda).reshape((3,1)))\n",
    "    weights[Lambda]=WR\n",
    "    biasR=y_bar-np.dot(WR.T,x_bar)\n",
    "    predsR=np.dot(WR.T,X)+biasR\n",
    "    mse[Lambda]=MSE(outputs,predsR)\n",
    "    print('For Lambda =',Lambda,', MSE is', MSE(outputs,predsR) )"
   ]
  },
  {
   "cell_type": "markdown",
   "metadata": {},
   "source": [
    "## Plotting the Variation of coefficients of features with the variation in Lambda"
   ]
  },
  {
   "cell_type": "code",
   "execution_count": 674,
   "metadata": {},
   "outputs": [
    {
     "data": {
      "image/png": "[encoded data removed]",
      "text/plain": [
       "<Figure size 432x288 with 1 Axes>"
      ]
     },
     "metadata": {
      "needs_background": "light"
     },
     "output_type": "display_data"
    }
   ],
   "source": [
    "arr_TV=[] #To store the coefficients of feature 'TV'\n",
    "arr_radio=[]\n",
    "arr_newspaper=[]\n",
    "for lamb in Lambdas:\n",
    "    arr_TV.append(weights[lamb][0][0])\n",
    "    arr_radio.append(weights[lamb][1][0])\n",
    "    arr_newspaper.append(weights[lamb][2][0])\n",
    "w=0.25\n",
    "x=['0.5','1','5','10','50','100']\n",
    "TV=arr_TV\n",
    "radio=arr_radio\n",
    "newspaper=arr_newspaper\n",
    "bar1=np.arange(len(x))\n",
    "bar2=[i+w for i in bar1]\n",
    "bar3=[i+w for i in bar2]\n",
    "plt.bar(bar1,TV,w,label='TV',color='black')\n",
    "plt.bar(bar2 ,radio,w,label='Radio',color='lightblue')\n",
    "plt.bar(bar3,newspaper,w,label='Newspaper',color='darkblue')\n",
    "plt.xlabel('Lambdas')\n",
    "plt.ylabel('Coefficients of Features')\n",
    "plt.xticks(bar1+w,x)\n",
    "plt.title('Values of Coefficients vs Lambdas')\n",
    "plt.legend()\n",
    "plt.show()"
   ]
  },
  {
   "cell_type": "markdown",
   "metadata": {},
   "source": [
    "## To calculate MSE for lambda values 0.5,1,2,....,100, and to plot a smooth MSE vs lambda"
   ]
  },
  {
   "cell_type": "code",
   "execution_count": 680,
   "metadata": {},
   "outputs": [
    {
     "data": {
      "image/png": "[encoded data removed]",
      "text/plain": [
       "<Figure size 432x288 with 1 Axes>"
      ]
     },
     "metadata": {
      "needs_background": "light"
     },
     "output_type": "display_data"
    }
   ],
   "source": [
    "weights1={}\n",
    "mse1=[]\n",
    "Lambdas1=[i for i in range(0,101,1)] #for lambdas 0.5,1,2....1000\n",
    "Lambdas1[0]=Lambdas1[0]+0.5\n",
    "for Lambda in Lambdas1:\n",
    "    WR1 = np.matmul(np.linalg.inv((np.dot(x_tilda.T,x_tilda))+Lambda*I),np.dot(x_tilda.T,y_tilda).reshape((3,1)))\n",
    "    weights1[Lambda]=WR1\n",
    "    biasR1=y_bar-np.dot(WR1.T,x_bar)\n",
    "    predsR1=np.dot(WR1.T,X)+biasR1 \n",
    "    mse1.append(MSE(outputs,predsR1)) #saving the mse values in the list mse1\n",
    "    #print('For Lambda = ',Lambda, 'MSE is', MSE(outputs,predsR1) )\n",
    "plt.plot(Lambdas1,mse1,color='darkblue', linestyle='dashed')\n",
    "plt.title('MSE Vs Lambda')\n",
    "plt.xlabel('Lambda')\n",
    "plt.ylabel('Mean Squared Error')\n",
    "plt.show()"
   ]
  },
  {
   "cell_type": "markdown",
   "metadata": {},
   "source": [
    "## Lasso Regression to find the most important feature"
   ]
  },
  {
   "cell_type": "code",
   "execution_count": 681,
   "metadata": {},
   "outputs": [
    {
     "data": {
      "text/plain": [
       "14.172359816874927"
      ]
     },
     "execution_count": 681,
     "metadata": {},
     "output_type": "execute_result"
    }
   ],
   "source": [
    "from sklearn.linear_model import Lasso\n",
    "model=Lasso(alpha=1).fit(training_inputs, training_outputs)\n",
    "predsL=model.predict(input_test)\n",
    "MSE(outputs,predsL) #The MSE would be a bit on the upside here, due to the dependence of just one variable as it can be seen\n",
    "#in the below code for coefficients, only one feature is important, or rather that feature is most important"
   ]
  },
  {
   "cell_type": "code",
   "execution_count": 677,
   "metadata": {},
   "outputs": [
    {
     "data": {
      "text/plain": [
       "array([3.20041637, 0.        , 0.        ])"
      ]
     },
     "execution_count": 677,
     "metadata": {},
     "output_type": "execute_result"
    }
   ],
   "source": [
    "coeffL=model.coef_\n",
    "coeffL"
   ]
  },
  {
   "cell_type": "markdown",
   "metadata": {},
   "source": [
    "## As you can see the respective coefficients of 'TV', 'radio' and 'newspaper' above, here the coefficients of radio and newspaper are 0 where as that of TV is 3.2, which further says that the most important feature input is investment for advertisements on TV for the total sales"
   ]
  },
  {
   "cell_type": "code",
   "execution_count": 679,
   "metadata": {},
   "outputs": [],
   "source": [
    "#NOTE: The coefficients could be changed in the next run due to variation in the training dataset and testing dataset"
   ]
  },
  {
   "cell_type": "code",
   "execution_count": null,
   "metadata": {},
   "outputs": [],
   "source": []
  }
 ],
 "metadata": {
  "kernelspec": {
   "display_name": "Python 3",
   "language": "python",
   "name": "python3"
  },
  "language_info": {
   "codemirror_mode": {
    "name": "ipython",
    "version": 3
   },
   "file_extension": ".py",
   "mimetype": "text/x-python",
   "name": "python",
   "nbconvert_exporter": "python",
   "pygments_lexer": "ipython3",
   "version": "3.7.4"
  }
 },
 "nbformat": 4,
 "nbformat_minor": 2
}
